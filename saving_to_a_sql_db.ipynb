{
 "cells": [
  {
   "cell_type": "markdown",
   "metadata": {},
   "source": [
    "# <center>Loading Github Data into a relational DataBase<center>\n",
    "## <center>Bentaleb Saad - YouCode<center>"
   ]
  },
  {
   "cell_type": "code",
   "execution_count": 188,
   "metadata": {},
   "outputs": [],
   "source": [
    "import pandas as pd\n",
    "import pyodbc"
   ]
  },
  {
   "cell_type": "code",
   "execution_count": 189,
   "metadata": {},
   "outputs": [],
   "source": [
    "# loading data\n",
    "commits = pd.read_csv('data/commits.csv')\n",
    "repos = pd.read_csv('data/repos.csv')\n",
    "languages = pd.read_csv('data/languages.csv')"
   ]
  },
  {
   "cell_type": "markdown",
   "metadata": {},
   "source": [
    "## Connecting to the SQL server using pyodbc\n",
    "---"
   ]
  },
  {
   "cell_type": "code",
   "execution_count": 190,
   "metadata": {},
   "outputs": [
    {
     "data": {
      "text/plain": [
       "<pyodbc.Cursor at 0x25973dcc030>"
      ]
     },
     "execution_count": 190,
     "metadata": {},
     "output_type": "execute_result"
    }
   ],
   "source": [
    "driver = 'SQL Server'\n",
    "server = 'LAPTOP-K8C2EPLP\\SQLEXPRESS'\n",
    "database = 'github_db'\n",
    "\n",
    "\n",
    "connection_string = f\"\"\"\n",
    "                            DRIVER={driver};\n",
    "                            SERVER={server};\n",
    "                            DATABASE={database};\n",
    "                            Trusted_Connection=yes;\n",
    "\"\"\"\n",
    "connection = pyodbc.connect(connection_string)\n",
    "cursor = connection.cursor()\n",
    "cursor\n",
    "\n"
   ]
  },
  {
   "cell_type": "markdown",
   "metadata": {},
   "source": [
    "## Creating the tables using the .sql file of creation transaction\n",
    "---"
   ]
  },
  {
   "cell_type": "code",
   "execution_count": 191,
   "metadata": {},
   "outputs": [
    {
     "data": {
      "text/plain": [
       "[]"
      ]
     },
     "execution_count": 191,
     "metadata": {},
     "output_type": "execute_result"
    }
   ],
   "source": [
    "# check if the tables were already created\n",
    "tables = cursor.tables(tableType='TABLE', schema='dbo').fetchall()\n",
    "tables_names = [table.table_name for table in tables if table.table_schem == 'dbo']\n",
    "tables_names"
   ]
  },
  {
   "cell_type": "code",
   "execution_count": 192,
   "metadata": {},
   "outputs": [],
   "source": [
    "# execute the .sql file\n",
    "if not tables_names :\n",
    "    cursor.execute(open('github_data_base_creation.sql').read()[3:]).commit()"
   ]
  },
  {
   "cell_type": "code",
   "execution_count": 193,
   "metadata": {},
   "outputs": [
    {
     "data": {
      "text/plain": [
       "['Commits',\n",
       " 'Contributions',\n",
       " 'Contributors',\n",
       " 'Language_usage',\n",
       " 'Languages',\n",
       " 'Owner',\n",
       " 'Repositories']"
      ]
     },
     "execution_count": 193,
     "metadata": {},
     "output_type": "execute_result"
    }
   ],
   "source": [
    "# check if the tables were created\n",
    "tables = cursor.tables(tableType='TABLE', schema='dbo').fetchall()\n",
    "tables_names = [table.table_name for table in tables if table.table_schem == 'dbo']\n",
    "tables_names"
   ]
  },
  {
   "cell_type": "code",
   "execution_count": 194,
   "metadata": {},
   "outputs": [
    {
     "name": "stdout",
     "output_type": "stream",
     "text": [
      "Columns for Commits:\n",
      "repos_url\n",
      "id\n",
      "author_name\n",
      "author_date\n",
      "committer_name\n",
      "committer_date\n",
      "\n",
      "\n",
      "Columns for Contributions:\n",
      "repo_url\n",
      "contributor_id\n",
      "count\n",
      "\n",
      "\n",
      "Columns for Contributors:\n",
      "id\n",
      "name\n",
      "profile_url\n",
      "\n",
      "\n",
      "Columns for Language_usage:\n",
      "repo_url\n",
      "language_id\n",
      "bytes_of_code\n",
      "\n",
      "\n",
      "Columns for Languages:\n",
      "id\n",
      "name\n",
      "\n",
      "\n",
      "Columns for Owner:\n",
      "id\n",
      "name\n",
      "profile_url\n",
      "\n",
      "\n",
      "Columns for Repositories:\n",
      "name\n",
      "url\n",
      "description\n",
      "stars\n",
      "created_at\n",
      "language\n",
      "forks\n",
      "watchers\n",
      "open_issues\n",
      "owner_id\n",
      "contributors_count\n",
      "\n",
      "\n"
     ]
    }
   ],
   "source": [
    "# check columns for each table\n",
    "for table_name in tables_names:\n",
    "    columns = cursor.columns(table=table_name, schema='dbo').fetchall()\n",
    "    print(f'Columns for {table_name}:')\n",
    "    for column in columns:\n",
    "        print(column.column_name)\n",
    "    print('\\n')"
   ]
  },
  {
   "cell_type": "markdown",
   "metadata": {},
   "source": [
    "# Inserting data from the dataframes to the database"
   ]
  },
  {
   "cell_type": "code",
   "execution_count": 195,
   "metadata": {},
   "outputs": [],
   "source": [
    "# a function to insert data into a table\n",
    "def insert_data(table_name, data):\n",
    "    columns = cursor.columns(table=table_name, schema='dbo').fetchall()\n",
    "    columns_names = [column.column_name for column in columns]\n",
    "    columns_names = ', '.join(columns_names)\n",
    "    values = ', '.join(['?' for _ in range(len(columns_names.split(', ')))])\n",
    "    query = f\"INSERT INTO {table_name} ({columns_names}) VALUES ({values})\"\n",
    "    cursor.executemany(query, data)\n",
    "    connection.commit()\n"
   ]
  },
  {
   "cell_type": "markdown",
   "metadata": {},
   "source": [
    "### filling the tables with data depending on the order of dependencie:\n",
    "### Languages -> Contributors -> Owner -> Repositories -> Commits -> Language_usage -> Contributions\n",
    "---"
   ]
  },
  {
   "cell_type": "markdown",
   "metadata": {},
   "source": [
    "## <center>1 - Languages table<center>\n",
    "---"
   ]
  },
  {
   "cell_type": "code",
   "execution_count": 196,
   "metadata": {},
   "outputs": [
    {
     "data": {
      "text/plain": [
       "[(1, 'Filebench WML'),\n",
       " (2, 'Nix'),\n",
       " (3, 'Awk'),\n",
       " (4, 'Common Lisp'),\n",
       " (5, 'Classic ASP')]"
      ]
     },
     "execution_count": 196,
     "metadata": {},
     "output_type": "execute_result"
    }
   ],
   "source": [
    "# get the list of unique languages from the languages columns names\n",
    "languages_names = languages.columns[1:].tolist()\n",
    "# generate id for each language\n",
    "languages_ids = [i for i in range(1, len(languages_names) + 1)]\n",
    "# create a list of tuples with the language id and the language name\n",
    "languages_names = list(zip(languages_ids, languages_names))\n",
    "# insert data into the Languages table\n",
    "insert_data('Languages', languages_names)\n",
    "# check if the data was inserted\n",
    "cursor.execute('SELECT * FROM Languages').fetchmany(5)"
   ]
  },
  {
   "cell_type": "markdown",
   "metadata": {},
   "source": [
    "## <center>2 - Contributors table<center>\n",
    "---"
   ]
  },
  {
   "cell_type": "code",
   "execution_count": 197,
   "metadata": {},
   "outputs": [
    {
     "data": {
      "text/plain": [
       "[(0, '#WANG JIANYI#', 'https://github.com/#WANG JIANYI#'),\n",
       " (1, '(Bill) Yuchen Lin', 'https://github.com/(Bill) Yuchen Lin'),\n",
       " (2, '(Holloway) Chew, Kean Ho', 'https://github.com/(Holloway) Chew, Kean Ho'),\n",
       " (3, '(cdep)illabout', 'https://github.com/(cdep)illabout'),\n",
       " (4, '(yunjin)', 'https://github.com/(yunjin)')]"
      ]
     },
     "execution_count": 197,
     "metadata": {},
     "output_type": "execute_result"
    }
   ],
   "source": [
    "# generate id for each contributor\n",
    "commits[\"contributor_id\"] = commits[\"author_name\"].astype('category').cat.codes\n",
    "commits[\"name\"] = commits[\"author_name\"]\n",
    "commits[\"profile_url\"] = (\"https://github.com/\" + commits[\"author_name\"]).replace(\" \", \"+\").astype(str)\n",
    "contributors = commits[['contributor_id', 'name', 'profile_url']].drop_duplicates()\n",
    "# as tuples\n",
    "contributors = [tuple(contributor) for contributor in contributors.values.tolist()]\n",
    "# insert data into the Contributors table\n",
    "insert_data('Contributors', contributors)\n",
    "cursor.execute('SELECT * FROM Contributors').fetchmany(5)"
   ]
  },
  {
   "cell_type": "markdown",
   "metadata": {},
   "source": [
    "## <center>3 - Owner table<center>\n",
    "---"
   ]
  },
  {
   "cell_type": "code",
   "execution_count": 198,
   "metadata": {},
   "outputs": [
    {
     "data": {
      "text/plain": [
       "[(0, '000miix', 'https://github.com/000miix'),\n",
       " (1, '0015', 'https://github.com/0015'),\n",
       " (2, '007revad', 'https://github.com/007revad'),\n",
       " (3, '02JanDal', 'https://github.com/02JanDal'),\n",
       " (4, '050310Y', 'https://github.com/050310Y')]"
      ]
     },
     "execution_count": 198,
     "metadata": {},
     "output_type": "execute_result"
    }
   ],
   "source": [
    "# Generate id for each owner\n",
    "repos[\"owner_id\"] = repos[\"owner\"].astype('category').cat.codes\n",
    "# Get the list of unique owners from the owner column\n",
    "owners = repos[['owner_id', 'owner']].drop_duplicates(subset=['owner'])\n",
    "owners['id'] = owners['owner_id']\n",
    "owners['name'] = owners['owner']\n",
    "owners['profile_url'] = (\"https://github.com/\" + owners[\"owner\"]).astype(str)\n",
    "owners = owners[['id', 'name', 'profile_url']]\n",
    "# Convert owners DataFrame to list of tuples\n",
    "owners_list = [tuple(row) for row in owners.values.tolist()]\n",
    "# Insert data into the Owners table\n",
    "insert_data('Owner', owners_list)\n",
    "cursor.execute('SELECT * FROM Owner').fetchmany(5)"
   ]
  },
  {
   "cell_type": "markdown",
   "metadata": {},
   "source": [
    "## <center>4 - Repositories table<center>\n",
    "---"
   ]
  },
  {
   "cell_type": "code",
   "execution_count": 199,
   "metadata": {},
   "outputs": [
    {
     "data": {
      "text/plain": [
       "[('DailyGrapher', 'https://github.com/000miix/DailyGrapher', 'A Hacs Custom Card that shows a calendar on a clock', 31, '2023-05-05', 'JavaScript', 1, 31, 2, 0, 2),\n",
       " ('ChatGPT_Client_For_Arduino', 'https://github.com/0015/ChatGPT_Client_For_Arduino', 'Library for communication with ChatGPT', 46, '2023-03-07', 'C++', 1, 46, 0, 1, 1),\n",
       " ('Synology_enable_M2_volume', 'https://github.com/007revad/Synology_enable_M2_volume', 'Enable creating volumes with non-Synology M.2 drives', 115, '2023-03-28', 'Shell', 12, 115, 7, 2, 2),\n",
       " ('Synology_HDD_db', 'https://github.com/007revad/Synology_HDD_db', \"Add your HDD, SSD and NVMe drives to your Synology's compatible drive database\", 652, '2023-02-26', 'Shell', 39, 652, 3, 2, 3),\n",
       " ('Synology_M2_volume', 'https://github.com/007revad/Synology_M2_volume', 'Easily create an M.2 volume on Synology NAS', 261, '2023-03-22', 'Shell', 19, 261, 2, 2, 2)]"
      ]
     },
     "execution_count": 199,
     "metadata": {},
     "output_type": "execute_result"
    }
   ],
   "source": [
    "repos = repos[['name', 'url', 'description', 'stars', 'created_at', 'language', 'forks', 'watchers', 'open_issues', 'owner_id', 'contributors_count']]\n",
    "# as tuples\n",
    "repos = [tuple(repo) for repo in repos.values.tolist()]\n",
    "# insert data into the Repositories table\n",
    "insert_data('Repositories', repos)\n",
    "cursor.execute('SELECT * FROM Repositories').fetchmany(5)"
   ]
  },
  {
   "cell_type": "markdown",
   "metadata": {},
   "source": [
    "## <center>5 - Commits table<center>\n",
    "---"
   ]
  },
  {
   "cell_type": "code",
   "execution_count": 206,
   "metadata": {},
   "outputs": [
    {
     "data": {
      "text/plain": [
       "[('https://github.com/Totoro97/f2-nerf', 0, 'totoro97', '2023-04-24', 'totoro97', '2023-04-24'),\n",
       " ('https://github.com/ki-lang/ki', 1, 'ctxz', '2023-06-06', 'ctxz', '2023-06-06'),\n",
       " ('https://github.com/FuncJin/Covid19-Visualization', 2, 'Ssylqwj1212', '2023-04-05', 'Ssylqwj1212', '2023-04-05'),\n",
       " ('https://github.com/e4s2022/e4s', 3, 'e4s2022', '2023-03-29', 'GitHub', '2023-03-29'),\n",
       " ('https://github.com/ashyanSpada/expression_engine_rs', 4, 'ausarwang', '2023-03-19', 'ausarwang', '2023-03-19')]"
      ]
     },
     "execution_count": 206,
     "metadata": {},
     "output_type": "execute_result"
    }
   ],
   "source": [
    "# load commits data\n",
    "commits = pd.read_csv('data/commits.csv')\n",
    "# get the list of unique languages from the languages columns names\n",
    "commits = commits[['url', 'id', 'author_name', 'author_date', 'committer_name', 'committer_date']]\n",
    "# drop duplicates by id\n",
    "commits = commits.drop_duplicates(subset=['id'])\n",
    "# generate id for each commit\n",
    "commits[\"id\"] = commits[\"id\"].astype('category').cat.codes\n",
    "# as tuples\n",
    "commits = [tuple(commit) for commit in commits.values.tolist()]\n",
    "# insert data into the Commits table\n",
    "insert_data('Commits', commits)\n",
    "cursor.execute('SELECT * FROM Commits').fetchmany(5)"
   ]
  },
  {
   "cell_type": "markdown",
   "metadata": {},
   "source": [
    "## <center>6 - Language_usage table (relation entity)<center>\n",
    "---"
   ]
  },
  {
   "cell_type": "code",
   "execution_count": 226,
   "metadata": {},
   "outputs": [],
   "source": [
    "# get the list of unique languages from the languages columns names\n",
    "languages_names = languages.columns[1:].tolist()\n",
    "# generate id for each language\n",
    "languages_ids = [i for i in range(1, len(languages_names) + 1)]\n",
    "# create a list of tuples with the language id and the language name\n",
    "languages_names = zip(languages_ids, languages_names)\n",
    "languages_names = list(languages_names)\n",
    "#as data frame\n",
    "languages_names = pd.DataFrame(languages_names, columns=['id', 'name'])"
   ]
  },
  {
   "cell_type": "code",
   "execution_count": 218,
   "metadata": {},
   "outputs": [
    {
     "data": {
      "text/plain": [
       "[('https://github.com/000miix/DailyGrapher', 117, 15018),\n",
       " ('https://github.com/0hq/ephemeral-notes', 117, 9972),\n",
       " ('https://github.com/0prrr/Malwear-Sweet', 117, 103),\n",
       " ('https://github.com/0ut0flin3/Reptyl', 117, 7704),\n",
       " ('https://github.com/0wQ/air780e-forwarder', 117, 3380334)]"
      ]
     },
     "execution_count": 218,
     "metadata": {},
     "output_type": "execute_result"
    }
   ],
   "source": [
    "# create a dataframe with the url and a row for each language with the number of bytes\n",
    "languages1 = languages.melt(id_vars=['url'], var_name='language', value_name='bytes')\n",
    "# drop rows with 0 bytes\n",
    "languages1 = languages1[languages1['bytes'] != 0]\n",
    "# order by url\n",
    "languages1 = languages1.sort_values(by=['url'])\n",
    "# get languages ids based on the language name for each language\n",
    "languages1 = languages1.merge(languages_names, left_on='language', right_on='name')\n",
    "languages1 = languages1[['url', 'id', 'bytes']]\n",
    "# as tuples\n",
    "languages1 = [tuple(language) for language in languages1.values.tolist()]\n",
    "# insert data into the Language_usage table\n",
    "insert_data('Language_usage', languages1)\n",
    "cursor.execute('SELECT * FROM Language_usage').fetchmany(5)"
   ]
  },
  {
   "cell_type": "markdown",
   "metadata": {},
   "source": [
    "## <center>7 - Contributions table (relation entity)<center>\n",
    "---"
   ]
  },
  {
   "cell_type": "code",
   "execution_count": 220,
   "metadata": {},
   "outputs": [
    {
     "name": "stderr",
     "output_type": "stream",
     "text": [
      "C:\\Users\\YouCode\\AppData\\Local\\Temp\\ipykernel_4844\\1663301996.py:8: SettingWithCopyWarning: \n",
      "A value is trying to be set on a copy of a slice from a DataFrame.\n",
      "Try using .loc[row_indexer,col_indexer] = value instead\n",
      "\n",
      "See the caveats in the documentation: https://pandas.pydata.org/pandas-docs/stable/user_guide/indexing.html#returning-a-view-versus-a-copy\n",
      "  contributions['contributors'] = contributions['contributors'].astype(str).str.split(',')\n",
      "C:\\Users\\YouCode\\AppData\\Local\\Temp\\ipykernel_4844\\1663301996.py:18: SettingWithCopyWarning: \n",
      "A value is trying to be set on a copy of a slice from a DataFrame.\n",
      "Try using .loc[row_indexer,col_indexer] = value instead\n",
      "\n",
      "See the caveats in the documentation: https://pandas.pydata.org/pandas-docs/stable/user_guide/indexing.html#returning-a-view-versus-a-copy\n",
      "  contributions1['contributions_count'] = contributions1['contributions_count'].astype(str).str.split(',')\n"
     ]
    }
   ],
   "source": [
    "# load repos data\n",
    "repos = pd.read_csv('data/repos.csv')\n",
    "# create a dataframe with the repo_url and contributor_id and count from repos[['contributors', 'contributions_count']] ex [\"'gnwx'\", \" 'sumn2u'\", \" 'Anuj-Khadka'\"] and [10, 1, 1]\n",
    "contributions = repos[['url', 'contributors']]\n",
    "# type of the contributors column\n",
    "contributions['contributors'].astype(str)\n",
    "# split the contributors column\n",
    "contributions['contributors'] = contributions['contributors'].astype(str).str.split(',')\n",
    "# explode the contributors column\n",
    "contributions = contributions.explode('contributors')\n",
    "# remove the spaces\n",
    "contributions['contributors'] = contributions['contributors'].str.strip()\n",
    "# remove the quotes\n",
    "contributions['contributors'] = contributions['contributors'].str.replace(\"'\", \"\")\n",
    "\n",
    "contributions1 = repos[['url', 'contributions_count']]\n",
    "# split the contributions_count column\n",
    "contributions1['contributions_count'] = contributions1['contributions_count'].astype(str).str.split(',')\n",
    "# explode the contributions_count column\n",
    "contributions1 = contributions1.explode('contributions_count')\n",
    "# remove the spaces\n",
    "contributions1['contributions_count'] = contributions1['contributions_count'].str.strip()\n",
    "# explode the contributions_count column \n",
    "contributions1 = contributions1.explode('contributions_count')\n",
    "\n",
    "contributions[\"contributions_count\"]  = contributions1[\"contributions_count\"]\n",
    "\n",
    "# remove spaces and quotes and [ and ] from the contributors column\n",
    "contributions['contributors'] = contributions['contributors'].str.replace(\"'\", \"\")\n",
    "contributions['contributors'] = contributions['contributors'].str.replace(\"\\\"\", \"\")\n",
    "contributions['contributors'] = contributions['contributors'].str.replace(\"[\", \"\")\n",
    "contributions['contributors'] = contributions['contributors'].str.replace(\"]\", \"\")\n",
    "contributions['contributors'] = contributions['contributors'].str.strip()\n",
    "\n",
    "contributions['contributions_count'] = contributions['contributions_count'].str.replace(\"[\", \"\")\n",
    "contributions['contributions_count'] = contributions['contributions_count'].str.replace(\"]\", \"\")\n",
    "contributions['contributions_count'] = contributions['contributions_count'].str.strip()\n",
    "\n",
    "# get the contributor_id from the Contributors table using the find by name request if it exists\n",
    "contributions['contributor_id'] = contributions['contributors'].apply(lambda x: cursor.execute(f\"SELECT id FROM Contributors WHERE name = '{x}'\").fetchone())\n",
    "# drop rows with no contributor_id\n",
    "contributions = contributions.dropna(subset=['contributor_id'])"
   ]
  },
  {
   "cell_type": "code",
   "execution_count": 224,
   "metadata": {},
   "outputs": [],
   "source": [
    "# convert the contributor_id to int after removing the brackets\n",
    "contributions['contributor_id'] = contributions['contributor_id'].astype(str).str.replace(\"(\\'\", \"\")\n",
    "contributions['contributor_id'] = contributions['contributor_id'].str.replace(\"\\',)\", \"\")\n",
    "contributions['contributor_id'] = contributions['contributor_id'].str.replace(\",)\", \"\")\n",
    "contributions['contributor_id'] = contributions['contributor_id'].str.replace(\"(\", \"\")\n",
    "contributions['contributor_id'] = contributions['contributor_id'].str.strip()\n",
    "contributions['contributor_id'] = contributions['contributor_id'].astype(int)\n",
    "# drop the contributors column\n",
    "contributions2 = contributions[['url', 'contributor_id', 'contributions_count']]\n",
    "# as tuples\n",
    "contributions2 = [tuple(contribution) for contribution in contributions2.values.tolist()]\n",
    "# insert data into the Contributions table\n",
    "insert_data('Contributions', contributions2)"
   ]
  },
  {
   "cell_type": "code",
   "execution_count": 225,
   "metadata": {},
   "outputs": [
    {
     "data": {
      "text/plain": [
       "[('https://github.com/sumn2u/learn-javascript', 23390, 83),\n",
       " ('https://github.com/rupali-codes/LinksHub', 26820, 6),\n",
       " ('https://github.com/LondheShubham153/90DaysOfDevOps', 11032, 167),\n",
       " ('https://github.com/LondheShubham153/90DaysOfDevOps', 18553, 3),\n",
       " ('https://github.com/LondheShubham153/90DaysOfDevOps', 27657, 1)]"
      ]
     },
     "execution_count": 225,
     "metadata": {},
     "output_type": "execute_result"
    }
   ],
   "source": [
    "cursor.execute('SELECT * FROM Contributions').fetchmany(5)"
   ]
  },
  {
   "cell_type": "markdown",
   "metadata": {},
   "source": [
    "## Trying some requests to get data from the database\n",
    "---"
   ]
  },
  {
   "cell_type": "code",
   "execution_count": 228,
   "metadata": {},
   "outputs": [
    {
     "data": {
      "text/plain": [
       "[('Auto-GPT', 142390, '2023-03-16', 'Significant-Gravitas'),\n",
       " ('the-algorithm', 58374, '2023-03-27', 'twitter'),\n",
       " ('node', 51652, '2023-02-01', 'base-org'),\n",
       " ('gpt4all', 48173, '2023-03-27', 'nomic-ai'),\n",
       " ('gpt4free', 41894, '2023-03-29', 'xtekky'),\n",
       " ('segment-anything', 35542, '2023-03-23', 'facebookresearch'),\n",
       " ('gpt-engineer', 35368, '2023-04-29', 'AntonOsika'),\n",
       " ('ChatGPT-Next-Web', 34814, '2023-03-10', 'Yidadaa'),\n",
       " ('TaskMatrix', 33500, '2023-03-02', 'microsoft'),\n",
       " ('llama.cpp', 33293, '2023-03-10', 'ggerganov')]"
      ]
     },
     "execution_count": 228,
     "metadata": {},
     "output_type": "execute_result"
    }
   ],
   "source": [
    "# get the top 10 repositories with the most stars along with their owner names\n",
    "query = \"\"\"\n",
    "SELECT TOP 10\n",
    "    r.name AS RepositoryName,\n",
    "    r.stars AS Stars,\n",
    "    r.created_at AS CreatedAt,\n",
    "    o.name AS OwnerName\n",
    "FROM Repositories r\n",
    "INNER JOIN Owner o ON r.owner_id = o.id\n",
    "ORDER BY r.stars DESC;\n",
    "\"\"\"\n",
    "cursor.execute(query).fetchall()"
   ]
  },
  {
   "cell_type": "code",
   "execution_count": 229,
   "metadata": {},
   "outputs": [
    {
     "data": {
      "text/plain": [
       "[('MoonLight0127', 12700),\n",
       " ('vfarid', 6679),\n",
       " ('jxxghp', 6286),\n",
       " ('drshahizan', 5214),\n",
       " ('adamlui', 4237)]"
      ]
     },
     "execution_count": 229,
     "metadata": {},
     "output_type": "execute_result"
    }
   ],
   "source": [
    "# get the top 5 contributors based on the total count of their contributions\n",
    "query = \"\"\"\n",
    "SELECT TOP 5\n",
    "    c.name AS ContributorName,\n",
    "    SUM(co.count) AS TotalContributions\n",
    "FROM Contributors c\n",
    "INNER JOIN Contributions co ON c.id = co.contributor_id\n",
    "GROUP BY c.name\n",
    "ORDER BY TotalContributions DESC;\n",
    "\"\"\"\n",
    "cursor.execute(query).fetchall()"
   ]
  },
  {
   "cell_type": "code",
   "execution_count": 231,
   "metadata": {},
   "outputs": [
    {
     "data": {
      "text/plain": [
       "[('Python', 6250, 1840208),\n",
       " ('JavaScript', 4381, 1408669),\n",
       " ('Shell', 3853, 1221808),\n",
       " ('CSS', 2974, 1057348),\n",
       " ('Dockerfile', 1739, 934787)]"
      ]
     },
     "execution_count": 231,
     "metadata": {},
     "output_type": "execute_result"
    }
   ],
   "source": [
    "# get the number of repositories for each language along with the total count of stars for each language\n",
    "query = \"\"\"\n",
    "SELECT\n",
    "    l.name AS LanguageName,\n",
    "    COUNT(r.url) AS RepoCount,\n",
    "    SUM(r.stars) AS TotalStars\n",
    "FROM Languages l\n",
    "LEFT JOIN Language_usage lu ON l.id = lu.language_id\n",
    "LEFT JOIN Repositories r ON lu.repo_url = r.url\n",
    "GROUP BY l.name ORDER BY TotalStars DESC;\n",
    "\"\"\"\n",
    "cursor.execute(query).fetchmany(5)"
   ]
  },
  {
   "cell_type": "code",
   "execution_count": 232,
   "metadata": {},
   "outputs": [
    {
     "data": {
      "text/plain": [
       "[(284676, 'gnwx', '2023-07-05', 'Suman Kunwar', '2023-07-05'),\n",
       " (210364, 'gnwx', '2023-07-04', 'Suman Kunwar', '2023-07-04'),\n",
       " (245001, 'gnwx', '2023-07-03', 'Suman Kunwar', '2023-07-03'),\n",
       " (316900, 'Suman Kunwar', '2023-07-03', 'GitHub', '2023-07-03'),\n",
       " (145286, 'gnwx', '2023-06-27', 'Suman Kunwar', '2023-06-27')]"
      ]
     },
     "execution_count": 232,
     "metadata": {},
     "output_type": "execute_result"
    }
   ],
   "source": [
    "# get the latest 5 commits for a given repository\n",
    "\n",
    "query = \"\"\"\n",
    "DECLARE @RepositoryURL VARCHAR(555) = 'https://github.com/sumn2u/learn-javascript'\n",
    "\n",
    "SELECT TOP 5\n",
    "    c.id AS CommitID,\n",
    "    c.author_name AS AuthorName,\n",
    "    c.author_date AS AuthorDate,\n",
    "    c.committer_name AS CommitterName,\n",
    "    c.committer_date AS CommitterDate\n",
    "FROM Commits c\n",
    "WHERE c.repos_url = @RepositoryURL\n",
    "ORDER BY c.author_date DESC;\n",
    "\"\"\"\n",
    "cursor.execute(query).fetchall()"
   ]
  }
 ],
 "metadata": {
  "kernelspec": {
   "display_name": "Python 3",
   "language": "python",
   "name": "python3"
  },
  "language_info": {
   "codemirror_mode": {
    "name": "ipython",
    "version": 3
   },
   "file_extension": ".py",
   "mimetype": "text/x-python",
   "name": "python",
   "nbconvert_exporter": "python",
   "pygments_lexer": "ipython3",
   "version": "3.11.3"
  },
  "orig_nbformat": 4
 },
 "nbformat": 4,
 "nbformat_minor": 2
}
